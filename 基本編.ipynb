{
 "cells": [
  {
   "cell_type": "markdown",
   "metadata": {
    "id": "MaZ07KRRRVpW"
   },
   "source": [
    "#4章 型の話"
   ]
  },
  {
   "cell_type": "markdown",
   "metadata": {
    "id": "oJxTtxI_RhWw"
   },
   "source": [
    "####4-4 四則演算"
   ]
  },
  {
   "cell_type": "code",
   "execution_count": 2,
   "metadata": {
    "colab": {
     "base_uri": "https://localhost:8080/"
    },
    "executionInfo": {
     "elapsed": 780,
     "status": "ok",
     "timestamp": 1639373792879,
     "user": {
      "displayName": "yuki uneyama",
      "photoUrl": "https://lh3.googleusercontent.com/a-/AOh14GiwVRweLM3jBIAf4ffifxXJsN9F5X3mv067rYBhAQ=s64",
      "userId": "11650625416620654616"
     },
     "user_tz": -540
    },
    "id": "RvDJsIvpRoUR",
    "outputId": "bbbd1442-ab82-42aa-fcd2-5b497f46e449"
   },
   "outputs": [
    {
     "name": "stdout",
     "output_type": "stream",
     "text": [
      "12.3\n",
      "3.7\n",
      "34.4\n",
      "1.8604651162790697\n"
     ]
    }
   ],
   "source": [
    "a, b = 8, 4.3\n",
    "print(a+b)\n",
    "print(a-b)\n",
    "print(a*b)\n",
    "print(a/b)"
   ]
  },
  {
   "cell_type": "code",
   "execution_count": 7,
   "metadata": {
    "colab": {
     "base_uri": "https://localhost:8080/"
    },
    "executionInfo": {
     "elapsed": 266,
     "status": "ok",
     "timestamp": 1639374037276,
     "user": {
      "displayName": "yuki uneyama",
      "photoUrl": "https://lh3.googleusercontent.com/a-/AOh14GiwVRweLM3jBIAf4ffifxXJsN9F5X3mv067rYBhAQ=s64",
      "userId": "11650625416620654616"
     },
     "user_tz": -540
    },
    "id": "mz1GwNjvSuvF",
    "outputId": "0a5a2a7f-abc0-4745-b0e5-64c3346b9f10"
   },
   "outputs": [
    {
     "name": "stdout",
     "output_type": "stream",
     "text": [
      "そらあおい\n"
     ]
    }
   ],
   "source": [
    "a, b = 'そら', 'あおい'\n",
    "print(a+b)"
   ]
  },
  {
   "cell_type": "markdown",
   "metadata": {
    "id": "QgRMZTKltlHI"
   },
   "source": [
    "#7章 クラスって、、？メソッドと関数、、？？"
   ]
  },
  {
   "cell_type": "markdown",
   "metadata": {
    "id": "KwrxxSDrtvRq"
   },
   "source": [
    "####7-2 インスタンス作成"
   ]
  },
  {
   "cell_type": "code",
   "execution_count": null,
   "metadata": {
    "id": "atRNCZBwtj7Y"
   },
   "outputs": [],
   "source": [
    "class CottonCandy:\n",
    "  name = \"わたあめ\"\n",
    "  flavor = \"イチゴ\"\n",
    "  color = \"赤\""
   ]
  },
  {
   "cell_type": "code",
   "execution_count": null,
   "metadata": {
    "colab": {
     "base_uri": "https://localhost:8080/"
    },
    "executionInfo": {
     "elapsed": 8,
     "status": "ok",
     "timestamp": 1638978822753,
     "user": {
      "displayName": "yuki uneyama",
      "photoUrl": "https://lh3.googleusercontent.com/a-/AOh14GiwVRweLM3jBIAf4ffifxXJsN9F5X3mv067rYBhAQ=s64",
      "userId": "11650625416620654616"
     },
     "user_tz": -540
    },
    "id": "TTRzwqxRuHgx",
    "outputId": "da099a87-6a56-4477-a306-60447fc334d3"
   },
   "outputs": [
    {
     "name": "stdout",
     "output_type": "stream",
     "text": [
      "わたあめ\n",
      "イチゴ\n"
     ]
    }
   ],
   "source": [
    "candy = CottonCandy()\n",
    "print(candy.name)\n",
    "print(candy.flavor)"
   ]
  },
  {
   "cell_type": "markdown",
   "metadata": {
    "id": "hko17J-9ubOx"
   },
   "source": [
    "####7-3 \\__init__の使い方"
   ]
  },
  {
   "cell_type": "code",
   "execution_count": null,
   "metadata": {
    "id": "dqcWLyrWuUC5"
   },
   "outputs": [],
   "source": [
    "class CottonCandy:\n",
    "  def __init__(self, flavor):\n",
    "    self.flavor = flavor"
   ]
  },
  {
   "cell_type": "code",
   "execution_count": null,
   "metadata": {
    "colab": {
     "base_uri": "https://localhost:8080/"
    },
    "executionInfo": {
     "elapsed": 5,
     "status": "ok",
     "timestamp": 1638978822753,
     "user": {
      "displayName": "yuki uneyama",
      "photoUrl": "https://lh3.googleusercontent.com/a-/AOh14GiwVRweLM3jBIAf4ffifxXJsN9F5X3mv067rYBhAQ=s64",
      "userId": "11650625416620654616"
     },
     "user_tz": -540
    },
    "id": "utfRKxG_u5ea",
    "outputId": "889d34c9-629b-4d12-9bc4-45cfdafd7f2e"
   },
   "outputs": [
    {
     "name": "stdout",
     "output_type": "stream",
     "text": [
      "イチゴ\n",
      "メロン\n"
     ]
    }
   ],
   "source": [
    "candy_1 = CottonCandy(\"イチゴ\")\n",
    "candy_2 = CottonCandy(\"メロン\")\n",
    "print(candy_1.flavor)\n",
    "print(candy_2.flavor)"
   ]
  },
  {
   "cell_type": "markdown",
   "metadata": {
    "id": "wIP85lHYvEpD"
   },
   "source": [
    "####7-4 クラス変数、インスタンス変数"
   ]
  },
  {
   "cell_type": "code",
   "execution_count": null,
   "metadata": {
    "id": "1cz6c0K7vJ_O"
   },
   "outputs": [],
   "source": [
    "class CottonCandy:\n",
    "  name = \"わたあめ\"\n",
    "\n",
    "  def __init__(self, flavor, color):\n",
    "    self.flavor = flavor\n",
    "    self.color = color"
   ]
  },
  {
   "cell_type": "code",
   "execution_count": null,
   "metadata": {
    "id": "KaalXGIcvP4g"
   },
   "outputs": [],
   "source": [
    "candy_1 = CottonCandy(\"イチゴ\", \"赤\")\n",
    "candy_2 = CottonCandy(\"メロン\", \"緑\")"
   ]
  },
  {
   "cell_type": "code",
   "execution_count": null,
   "metadata": {
    "colab": {
     "base_uri": "https://localhost:8080/"
    },
    "executionInfo": {
     "elapsed": 377,
     "status": "ok",
     "timestamp": 1638979235922,
     "user": {
      "displayName": "yuki uneyama",
      "photoUrl": "https://lh3.googleusercontent.com/a-/AOh14GiwVRweLM3jBIAf4ffifxXJsN9F5X3mv067rYBhAQ=s64",
      "userId": "11650625416620654616"
     },
     "user_tz": -540
    },
    "id": "sabGo0t1vb_h",
    "outputId": "d9534401-8840-440b-fcb9-312323866fb5"
   },
   "outputs": [
    {
     "name": "stdout",
     "output_type": "stream",
     "text": [
      "<クラス変数>\n",
      "candy_1.name: わたあめ\n",
      "candy_2.name: わたあめ\n",
      "\n",
      "<インスタンス変数>\n",
      "candy_1.flavor: イチゴ\n",
      "candy_2.flavor: メロン\n"
     ]
    }
   ],
   "source": [
    "print(\"<クラス変数>\")\n",
    "print(\"candy_1.name: {}\".format(candy_1.name))\n",
    "print(\"candy_2.name: {}\".format(candy_2.name))\n",
    "\n",
    "print(\"\\n<インスタンス変数>\")\n",
    "print(\"candy_1.flavor: {}\".format(candy_1.flavor))\n",
    "print(\"candy_2.flavor: {}\".format(candy_2.flavor))"
   ]
  },
  {
   "cell_type": "markdown",
   "metadata": {
    "id": "CU06tD4Tsg1d"
   },
   "source": [
    "# 8章 例外処理って便利なんだよ"
   ]
  },
  {
   "cell_type": "markdown",
   "metadata": {
    "id": "Pn8Jt0NKsmIN"
   },
   "source": [
    "#### 8-2 例外処理(エラー回避)"
   ]
  },
  {
   "cell_type": "code",
   "execution_count": null,
   "metadata": {
    "id": "B-Zd2Nxzogx3"
   },
   "outputs": [],
   "source": [
    "def tuika(some_list):\n",
    "  some_list.append(5)\n",
    "  return some_list"
   ]
  },
  {
   "cell_type": "code",
   "execution_count": null,
   "metadata": {
    "colab": {
     "base_uri": "https://localhost:8080/"
    },
    "executionInfo": {
     "elapsed": 8,
     "status": "ok",
     "timestamp": 1638978826679,
     "user": {
      "displayName": "yuki uneyama",
      "photoUrl": "https://lh3.googleusercontent.com/a-/AOh14GiwVRweLM3jBIAf4ffifxXJsN9F5X3mv067rYBhAQ=s64",
      "userId": "11650625416620654616"
     },
     "user_tz": -540
    },
    "id": "sIBWM5mUtMBj",
    "outputId": "95ac1bb7-ca34-48b3-92a3-438a9a0452d6"
   },
   "outputs": [
    {
     "name": "stdout",
     "output_type": "stream",
     "text": [
      "[0, 5, 87, 7, 5]\n"
     ]
    }
   ],
   "source": [
    "a = [0, 5, 87, 7]\n",
    "new_a = tuika(a)\n",
    "print(new_a)"
   ]
  },
  {
   "cell_type": "code",
   "execution_count": null,
   "metadata": {
    "colab": {
     "base_uri": "https://localhost:8080/",
     "height": 274
    },
    "executionInfo": {
     "elapsed": 295,
     "status": "error",
     "timestamp": 1638978826967,
     "user": {
      "displayName": "yuki uneyama",
      "photoUrl": "https://lh3.googleusercontent.com/a-/AOh14GiwVRweLM3jBIAf4ffifxXJsN9F5X3mv067rYBhAQ=s64",
      "userId": "11650625416620654616"
     },
     "user_tz": -540
    },
    "id": "Ma7IoyfvtO-i",
    "outputId": "3c4d38f3-d654-49f2-cb4f-9b2fa4f05b95"
   },
   "outputs": [
    {
     "ename": "AttributeError",
     "evalue": "ignored",
     "output_type": "error",
     "traceback": [
      "\u001b[0;31m---------------------------------------------------------------------------\u001b[0m",
      "\u001b[0;31mAttributeError\u001b[0m                            Traceback (most recent call last)",
      "\u001b[0;32m<ipython-input-30-0d5a21237bf2>\u001b[0m in \u001b[0;36m<module>\u001b[0;34m()\u001b[0m\n\u001b[1;32m      1\u001b[0m \u001b[0ma\u001b[0m \u001b[0;34m=\u001b[0m \u001b[0;36m85\u001b[0m\u001b[0;34m\u001b[0m\u001b[0;34m\u001b[0m\u001b[0m\n\u001b[0;32m----> 2\u001b[0;31m \u001b[0mnew_a\u001b[0m \u001b[0;34m=\u001b[0m \u001b[0mtuika\u001b[0m\u001b[0;34m(\u001b[0m\u001b[0ma\u001b[0m\u001b[0;34m)\u001b[0m\u001b[0;34m\u001b[0m\u001b[0;34m\u001b[0m\u001b[0m\n\u001b[0m",
      "\u001b[0;32m<ipython-input-28-cf3cb68527cd>\u001b[0m in \u001b[0;36mtuika\u001b[0;34m(some_list)\u001b[0m\n\u001b[1;32m      1\u001b[0m \u001b[0;32mdef\u001b[0m \u001b[0mtuika\u001b[0m\u001b[0;34m(\u001b[0m\u001b[0msome_list\u001b[0m\u001b[0;34m)\u001b[0m\u001b[0;34m:\u001b[0m\u001b[0;34m\u001b[0m\u001b[0;34m\u001b[0m\u001b[0m\n\u001b[0;32m----> 2\u001b[0;31m   \u001b[0msome_list\u001b[0m\u001b[0;34m.\u001b[0m\u001b[0mappend\u001b[0m\u001b[0;34m(\u001b[0m\u001b[0;36m5\u001b[0m\u001b[0;34m)\u001b[0m\u001b[0;34m\u001b[0m\u001b[0;34m\u001b[0m\u001b[0m\n\u001b[0m\u001b[1;32m      3\u001b[0m   \u001b[0;32mreturn\u001b[0m \u001b[0msome_list\u001b[0m\u001b[0;34m\u001b[0m\u001b[0;34m\u001b[0m\u001b[0m\n",
      "\u001b[0;31mAttributeError\u001b[0m: 'int' object has no attribute 'append'"
     ]
    }
   ],
   "source": [
    "a = 85\n",
    "new_a = tuika(a)"
   ]
  },
  {
   "cell_type": "code",
   "execution_count": null,
   "metadata": {
    "colab": {
     "base_uri": "https://localhost:8080/"
    },
    "executionInfo": {
     "elapsed": 240,
     "status": "ok",
     "timestamp": 1638978830398,
     "user": {
      "displayName": "yuki uneyama",
      "photoUrl": "https://lh3.googleusercontent.com/a-/AOh14GiwVRweLM3jBIAf4ffifxXJsN9F5X3mv067rYBhAQ=s64",
      "userId": "11650625416620654616"
     },
     "user_tz": -540
    },
    "id": "Ac6Y2fgotQ2i",
    "outputId": "93a3f929-9983-41f8-885f-94e60ad4da83"
   },
   "outputs": [
    {
     "name": "stdout",
     "output_type": "stream",
     "text": [
      "リストじゃないよ！\n"
     ]
    }
   ],
   "source": [
    "a = 85\n",
    "try:\n",
    "  new_a = tuika(a)\n",
    "except AttributeError:\n",
    "  print(\"リストじゃないよ！\") \n",
    "else:\n",
    "  print(new_a) "
   ]
  },
  {
   "cell_type": "code",
   "execution_count": null,
   "metadata": {
    "colab": {
     "base_uri": "https://localhost:8080/"
    },
    "executionInfo": {
     "elapsed": 223,
     "status": "ok",
     "timestamp": 1638978831918,
     "user": {
      "displayName": "yuki uneyama",
      "photoUrl": "https://lh3.googleusercontent.com/a-/AOh14GiwVRweLM3jBIAf4ffifxXJsN9F5X3mv067rYBhAQ=s64",
      "userId": "11650625416620654616"
     },
     "user_tz": -540
    },
    "id": "IrXobUTItTXr",
    "outputId": "9df6318f-9b2e-4fee-c4d6-b1b82c1c806f"
   },
   "outputs": [
    {
     "name": "stdout",
     "output_type": "stream",
     "text": [
      "[0, 5, 87, 7, 5]\n"
     ]
    }
   ],
   "source": [
    "a = [0, 5, 87, 7]\n",
    "try:\n",
    "  new_a = tuika(a)\n",
    "except AttributeError:\n",
    "  print(\"リストじゃないよ！\") \n",
    "else:\n",
    "  print(new_a) "
   ]
  },
  {
   "cell_type": "code",
   "execution_count": null,
   "metadata": {
    "id": "vmSW4gcCtgus"
   },
   "outputs": [],
   "source": []
  }
 ],
 "metadata": {
  "colab": {
   "authorship_tag": "ABX9TyNZyRde6xGBmNFbtv15TPGR",
   "collapsed_sections": [],
   "name": "基本編.ipynb",
   "provenance": [
    {
     "file_id": "1zQoRFr_YzySOm4OFz_IfpiM_C9mMNqhy",
     "timestamp": 1638979080075
    }
   ],
   "toc_visible": true
  },
  "kernelspec": {
   "display_name": "Python 3 (ipykernel)",
   "language": "python",
   "name": "python3"
  },
  "language_info": {
   "codemirror_mode": {
    "name": "ipython",
    "version": 3
   },
   "file_extension": ".py",
   "mimetype": "text/x-python",
   "name": "python",
   "nbconvert_exporter": "python",
   "pygments_lexer": "ipython3",
   "version": "3.9.7"
  }
 },
 "nbformat": 4,
 "nbformat_minor": 1
}
